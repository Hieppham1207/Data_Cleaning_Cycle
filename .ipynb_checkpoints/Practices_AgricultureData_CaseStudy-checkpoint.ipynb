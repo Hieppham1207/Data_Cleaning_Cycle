{
 "cells": [
  {
   "cell_type": "markdown",
   "metadata": {},
   "source": [
    "<center>\n",
    "    \n",
    "<h3> CHƯƠNG 2: THU THẬP VÀ TIỀN XỬ LÝ DỮ LIỆU - Phần 3</h3>\n",
    "<h2 style='color:red'>(Làm sạch và nâng cao chất lượng dữ liệu)</h2>\n",
    "    \n",
    "</center>\n",
    "\n",
    "<img src='Pic/Picture1.jpg' width='550px'>\n",
    "\n",
    "---\n",
    "*Copyright: Đặng Văn Nam - FIT.HUMG - AIACADEMY VN - BKACAD@2023*"
   ]
  },
  {
   "cell_type": "markdown",
   "metadata": {
    "deletable": false
   },
   "source": [
    "### CASE STUDY: LÀM SẠCH TẬP DỮ LIỆU NÔNG NGHIỆP\n",
    "---\n",
    "\n",
    "<img src='Pic/agriculture.jpg' width='500px'>\n",
    "\n",
    "**MÔ TẢ DỮ LIỆU:**\n",
    "\n",
    "Tập dữ liệu agricultural_raw_material.csv lưu trữ dữ liệu về giá của một số sản phẩm nông nghiệp và tỷ lệ tăng giá bán, dữ liệu được tính theo tháng từ tháng 04/1990 --> 04/2020:\n",
    "1. Coarse wool (Len Thô)\n",
    "2. Copra (Giá cùi dừa)\n",
    "3. Cotton (Giá bông)\n",
    "4. Fine Wool (Giá len mịn)\n",
    "5. Hard log (Giá gỗ cứng)\n",
    "6. Hard sawnwood (Giá gỗ xẻ cứng)\n",
    "7. Hide (da thú)\n",
    "8. Rubber (Cao su)\n",
    "\n",
    "---\n",
    "**MỤC TIÊU PROJECT:**\n",
    "* Tập dữ liệu thô (Raw data) về giá và tỷ lệ thay đổi giá của một số mặt hàng nông nghiệp của USA. File dữ liệu này cần phải được xử lý và làm sạch trước khi sử dụng cho phân tích hay bất kỳ mục đích gì?"
   ]
  },
  {
   "cell_type": "markdown",
   "metadata": {
    "id": "e2rmz3jLz0-k"
   },
   "source": [
    "## Bước 1) Đọc và kiểm tra dữ liệu (Data audit)\n",
    "---\n",
    "Để bắt đầu quy trình làm sạch dữ liệu việc đầu tiên là cần kiểm tra, xem xét kỹ những dữ liệu đã thu thập và sẽ được sử dụng. Xác định các loại lỗi mà tập dữ liệu có thể chứa và vị trí của chúng. Việc này có thể được thực hiện thông qua các phương pháp thống kê và cơ sở dữ liệu để tìm ra những điểm bất thường, mâu thuẫn.!"
   ]
  },
  {
   "cell_type": "code",
   "execution_count": null,
   "metadata": {
    "id": "_HOqIJuhx5tB"
   },
   "outputs": [],
   "source": [
    "#Gọi các thư viện sử dụng\n",
    "import numpy as np\n",
    "import pandas as pd\n",
    "import matplotlib.pyplot as plt\n",
    "\n",
    "%matplotlib inline\n",
    "#---------------------------------\n",
    "import warnings\n",
    "warnings.filterwarnings('ignore')"
   ]
  },
  {
   "cell_type": "code",
   "execution_count": null,
   "metadata": {
    "colab": {
     "base_uri": "https://localhost:8080/"
    },
    "id": "qvlEescszP6Z",
    "outputId": "ddadf512-6456-406e-ee15-730fc7a87517"
   },
   "outputs": [],
   "source": [
    "#Đọc file dữ liệu\n",
    "path='Data/agricultural_raw_material.csv'\n",
    "data_raw = pd.read_csv(path)\n",
    "#Hiển thị thông tin dữ liệu:\n",
    "data_raw.info()"
   ]
  },
  {
   "cell_type": "code",
   "execution_count": null,
   "metadata": {
    "colab": {
     "base_uri": "https://localhost:8080/",
     "height": 350
    },
    "id": "z8Oh6hDyzola",
    "outputId": "1f643d6f-13b0-4a67-d340-07d2f4c8dc3e"
   },
   "outputs": [],
   "source": [
    "#Hiển thị 5 dòng dữ liệu đầu tiên:\n",
    "data_raw.head()"
   ]
  },
  {
   "cell_type": "code",
   "execution_count": null,
   "metadata": {
    "scrolled": false
   },
   "outputs": [],
   "source": [
    "#Hiển thị 5 dòng dữ liệu cuối cùng:\n",
    "data_raw.tail()"
   ]
  },
  {
   "cell_type": "code",
   "execution_count": null,
   "metadata": {},
   "outputs": [],
   "source": [
    "#hiển thị 5 mẫu ngẫu nhiên trong dữ liệu\n",
    "data_raw.sample(5)"
   ]
  },
  {
   "cell_type": "markdown",
   "metadata": {},
   "source": [
    "## Một số điểm bất thường với dữ liệu:\n",
    "---\n",
    "* Dữ liệu cột Month (dạng Chuỗi) - Chưa đúng định dạng ngày tháng\n",
    "* Dữ liệu các cột tỷ lệ % (dạng chuỗi) - Chưa phải là dạng số\n",
    "* Tồn tại các điểm dữ liệu khuyết thiếu (missing data); các điểm dữ liệu thiếu tập trung ở cuối của tập dữ liệu --> Không phải toàn bộ 8 mặt hàng đều có dữ liệu đến thời điểm kết thúc là 4/2020"
   ]
  },
  {
   "cell_type": "code",
   "execution_count": null,
   "metadata": {},
   "outputs": [],
   "source": []
  },
  {
   "cell_type": "markdown",
   "metadata": {
    "id": "AiUnGiXyGzXu"
   },
   "source": [
    "## Bước 2) Xây dựng luồng công việc (Workflow specification)\n",
    "---\n",
    "Giai đoạn này sẽ xác định các thao tác, hoạt động, trình tự làm sạch tập dữ liệu.  Quy trình làm sạch dữ liệu điển hình bao gồm một loạt thao tác được thực hiện lặp lại trên dữ liệu cho đến khi đạt được tập dữ liệu chất lượng.!\n",
    "\n",
    "**A.Chuẩn hóa dữ liệu:**\n",
    "1. Chuẩn hóa dữ liệu thời gian cột Month: \n",
    "    * Tách thành hai cột Year (YY) | Month(text)\n",
    "    * Chuyển Year về năm đầy đủ (YYYY)\n",
    "    * Chuyển dữ liệu Month từ Text ---> Số\n",
    "2. Chuẩn hóa dữ liệu tỷ lệ % tăng giá dòng dầu tiên từ '-' về số 0\n",
    "3. Chuẩn hóa dữ liệu tỷ lệ % tăng giá\n",
    "    * Bỏ dấu % trong số liệu\n",
    "    * Chuyển về dữ liệu float\n",
    "4. Chuẩn hóa dữ liệu giá bán: trường hợp giá lớn hơn 1000 có dấu , phân cách giữa hàng trăm và hàng nghìn (1,011.45 -- kiểu: object)\n",
    "    * Bỏ dấu , khỏi chuỗi\n",
    "    * Chuyển về kiểu dữ liệu float\n",
    "\n",
    "**B. Kiểm tra và xử lý dữ liệu thiếu (nếu có)**\n",
    "\n",
    "**C. Kiểm tra và xử lý dữ trùng lặp (nếu có)**\n",
    "\n",
    "**D. Kiểm tra và xử lý dữ liệu ngoại lai (nếu có):**"
   ]
  },
  {
   "cell_type": "code",
   "execution_count": null,
   "metadata": {},
   "outputs": [],
   "source": []
  },
  {
   "cell_type": "markdown",
   "metadata": {},
   "source": [
    "## Bước 3 - Thực thi luồng công việc (Workflow execution)\n",
    "---\n",
    "Thực hiện các kỹ thuật làm sạch dữ liệu theo như luồng công việc đã xây dựng ở bước 2. Quá trình làm sạch dữ liệu có thể có các phương thức, kỹ thuật khác nhau phụ thuộc vào bản chất của dữ liệu và từng dự án cụ thể. Nhưng mục tiêu cuối cùng luôn giống nhau đó là loại bỏ hoặc chỉnh sửa dữ liệu thô ban đầu để thu được dữ liệu sạch.!"
   ]
  },
  {
   "cell_type": "code",
   "execution_count": null,
   "metadata": {},
   "outputs": [],
   "source": [
    "#Tạo bản sao dữ liệu:\n",
    "data_clean = data_raw.copy()"
   ]
  },
  {
   "cell_type": "code",
   "execution_count": null,
   "metadata": {
    "id": "2KlhtRgh_F4j"
   },
   "outputs": [],
   "source": [
    "#Khai báo dánh sách các tên cột ứng với dữ liệu Price và tỷ lệ % thay đổi giá\n",
    "#Danh sách các cột Price:\n",
    "prices=['Coarse wool Price',\n",
    "       'Copra Price', \n",
    "       'Cotton Price',\n",
    "       'Fine wool Price',\n",
    "       'Hard log Price', \n",
    "       'Hard sawnwood Price',\n",
    "       'Hide Price', \n",
    "       'Rubber Price']\n",
    "\n",
    "#Danh sách các cột % Change:\n",
    "percentages=['Coarse wool price % Change',\n",
    "            'Copra price % Change', \n",
    "            'Cotton price % Change', \n",
    "            'Fine wool price % Change',\n",
    "            'Hard log price % Change', \n",
    "            'Hard sawnwood price % Change', \n",
    "            'Hide price % change',\n",
    "            'Rubber price % Change']"
   ]
  },
  {
   "cell_type": "markdown",
   "metadata": {},
   "source": [
    "## A. Chuẩn hóa dữ liệu\n",
    "### 3.1) Chuẩn hóa dữ liệu thời gian cột Month\n",
    "---\n",
    "Tách thành 2 phần year - month từ cột Month dựa vào ký hiệu -"
   ]
  },
  {
   "cell_type": "code",
   "execution_count": null,
   "metadata": {},
   "outputs": [],
   "source": [
    "#Dữ liệu ban đầu:\n",
    "data_clean.head()"
   ]
  },
  {
   "cell_type": "code",
   "execution_count": null,
   "metadata": {
    "colab": {
     "base_uri": "https://localhost:8080/",
     "height": 350
    },
    "id": "TreIjP2zH2MF",
    "outputId": "8aaf7abc-d672-4312-813f-50c634badc40"
   },
   "outputs": [],
   "source": [
    "#Bổ sung 2 cột mới (month, year) lưu dữ liệu\n",
    "data_clean[\"month\"] = [str(s.split(\"-\")[0]) for s in data_clean[\"Month\"]]\n",
    "data_clean[\"year\"] = [int(s.split(\"-\")[1]) for s in data_clean[\"Month\"]]\n",
    "\n",
    "#Hiển thị kết quả xử lý:\n",
    "data_clean.head()"
   ]
  },
  {
   "cell_type": "code",
   "execution_count": null,
   "metadata": {
    "colab": {
     "base_uri": "https://localhost:8080/",
     "height": 350
    },
    "id": "i5FrnQcBJFJx",
    "outputId": "1c75c848-6bbc-4524-e74e-8fec941c2b01"
   },
   "outputs": [],
   "source": [
    "#Year chỉ bao gồm 2 số cuối của năm cần thực hiện\n",
    "#Chuyển Year về đúng định dạng năm: 19xx - 20xx (<89)\n",
    "data_clean['year'] = [2000 + i if i < 89 else 1900 + i for i in data_clean[\"year\"]]\n",
    "\n",
    "#Hiển thị kết quả xư lý:\n",
    "data_clean.head()"
   ]
  },
  {
   "cell_type": "code",
   "execution_count": null,
   "metadata": {
    "colab": {
     "base_uri": "https://localhost:8080/",
     "height": 366
    },
    "id": "o4AyloGEAy63",
    "outputId": "43690f85-a8ce-41eb-d882-1c5b3d3e35b1"
   },
   "outputs": [],
   "source": [
    "data_clean.tail(5)"
   ]
  },
  {
   "cell_type": "code",
   "execution_count": null,
   "metadata": {
    "colab": {
     "base_uri": "https://localhost:8080/"
    },
    "id": "_gnIKZxcAZLV",
    "outputId": "ab1d3d92-e605-4b0b-8604-1ce69b2bb08d"
   },
   "outputs": [],
   "source": [
    "# Chuyển đổi dữ liệu cột month từ string của các tháng --> số\n",
    "#Check các 'ký hiệu' tháng khác nhau trong cột month\n",
    "data_clean['month'].unique()"
   ]
  },
  {
   "cell_type": "code",
   "execution_count": null,
   "metadata": {
    "colab": {
     "base_uri": "https://localhost:8080/",
     "height": 350
    },
    "id": "Fl7F6ANgJqvX",
    "outputId": "1983f219-c22a-4f30-b6a0-c0b845f554b1"
   },
   "outputs": [],
   "source": [
    "#Thực hiện chuyển sang số nguyên ứng với các ký hiệu của từng tháng\n",
    "mapping = {\"Jan\":1, \"Feb\":2, \"Mar\":3, \"Apr\":4, \"May\":5, \"Jun\":6, \n",
    "           \"Jul\":7, \"Aug\":8, \"Sep\":9, \"Oct\":10, \"Nov\":11, \"Dec\":12}\n",
    "data_clean[\"month\"] = data_clean[\"month\"].map(mapping).astype(\"int16\")\n",
    "\n",
    "#Hiển thị kết quả xử lý:\n",
    "data_clean.head()"
   ]
  },
  {
   "cell_type": "code",
   "execution_count": null,
   "metadata": {
    "colab": {
     "base_uri": "https://localhost:8080/",
     "height": 366
    },
    "id": "4lxodrnwKABz",
    "outputId": "8004e9b1-973e-4325-f15d-14505e71c798"
   },
   "outputs": [],
   "source": [
    "#Cột year dữ liệu năm - cột month dữ liệu tháng\n",
    "#Tạo ra một một dữ liệu datetime ghép từ Year và Month\n",
    "data_clean[\"Date\"] = [str(y) + '-' + str(m) for y,m in zip(data_clean[\"year\"], data_clean[\"month\"])]\n",
    "\n",
    "#chuyển đổi cột Date về dạng DateTime\n",
    "data_clean['Date']=pd.to_datetime(data_clean[\"Date\"])\n",
    "\n",
    "#Hiển thị kết quả xử lý:\n",
    "data_clean.head()\n"
   ]
  },
  {
   "cell_type": "code",
   "execution_count": null,
   "metadata": {
    "colab": {
     "base_uri": "https://localhost:8080/"
    },
    "id": "eP5FiV59K8_R",
    "outputId": "05192bd0-debf-4de2-a3de-02576daf3a77"
   },
   "outputs": [],
   "source": [
    "##Xóa các cột dữ thừa không sử dụng\n",
    "data_clean.drop([\"Month\",\"year\",\"month\"], axis=1,inplace=True)\n",
    "\n",
    "#Thiết lập cột Date thành cột chỉ số (index)\n",
    "data_clean.set_index(\"Date\",inplace=True)\n",
    "\n",
    "data_clean.info()"
   ]
  },
  {
   "cell_type": "code",
   "execution_count": null,
   "metadata": {
    "colab": {
     "base_uri": "https://localhost:8080/",
     "height": 396
    },
    "id": "wSxWV6QqLu4x",
    "outputId": "c744ce15-df2d-40cb-931c-bfda7cb40e23"
   },
   "outputs": [],
   "source": [
    "data_clean.head()"
   ]
  },
  {
   "cell_type": "markdown",
   "metadata": {},
   "source": [
    "### 3.2) Xử lý dữ liệu các cột tỷ lệ thay đổi giá.\n",
    "---\n",
    "* Xử lý dòng dữ liệu đầu tiên của Data_raw\n",
    "* Thay thế ký hiệu - thành ký tự 0"
   ]
  },
  {
   "cell_type": "code",
   "execution_count": null,
   "metadata": {
    "colab": {
     "base_uri": "https://localhost:8080/",
     "height": 396
    },
    "id": "dPvRV3MQ5ENm",
    "outputId": "1754f020-07f4-4a8e-e1c2-223df499d82c"
   },
   "outputs": [],
   "source": [
    "#Thực hiện thay thế toàn bộ ký tự - trong dữ liệu thành ký tự 0\n",
    "data_clean = data_clean.replace('-','0')\n",
    "\n",
    "#Kết quả sau xử lý:\n",
    "data_clean.head()"
   ]
  },
  {
   "cell_type": "markdown",
   "metadata": {},
   "source": [
    "### 3.3) Loại bỏ ký hiệu % trong số liệu và chuyển sang kiểu dữ liệu float\n",
    "---"
   ]
  },
  {
   "cell_type": "code",
   "execution_count": null,
   "metadata": {
    "colab": {
     "base_uri": "https://localhost:8080/",
     "height": 396
    },
    "id": "mJjfwQBn5Uif",
    "outputId": "cc543631-f93a-413a-c1a6-d4a2ab9ae9e2"
   },
   "outputs": [],
   "source": [
    "#Xóa ký hiệu % trong các cột % change:\n",
    "for i in percentages:\n",
    "    data_clean[i] = data_clean[i].apply(lambda x: str(x).replace('%',''))\n",
    "    data_clean[i] = data_clean[i].astype('float')\n",
    "\n",
    "#Kết quả sau xử lý:\n",
    "data_clean.head()"
   ]
  },
  {
   "cell_type": "code",
   "execution_count": null,
   "metadata": {
    "colab": {
     "base_uri": "https://localhost:8080/"
    },
    "id": "sXPstl1vQRCE",
    "outputId": "5b6c3e09-c8f7-45fd-bb44-e731d4461089"
   },
   "outputs": [],
   "source": [
    "data_clean.info()"
   ]
  },
  {
   "cell_type": "markdown",
   "metadata": {},
   "source": [
    "### 2.4) Xử lý dữ liệu có dấu ',' khi lớn hơn 1000 trong các cột price\n",
    "---"
   ]
  },
  {
   "cell_type": "code",
   "execution_count": null,
   "metadata": {},
   "outputs": [],
   "source": [
    "data_clean.head()"
   ]
  },
  {
   "cell_type": "code",
   "execution_count": null,
   "metadata": {
    "colab": {
     "base_uri": "https://localhost:8080/"
    },
    "id": "N3V_pA0sEsTq",
    "outputId": "067c9643-bcf9-411d-ada2-d337a553eddc"
   },
   "outputs": [],
   "source": [
    "#Thực hiện xóa dấu , và ép kiểu dữ liệu:\n",
    "for i in prices:\n",
    "    data_clean[i] = data_clean[i].apply(lambda x: str(x).replace(',',''))\n",
    "    data_clean[i] = data_clean[i].astype('float')\n",
    "data_clean.info()"
   ]
  },
  {
   "cell_type": "code",
   "execution_count": null,
   "metadata": {
    "colab": {
     "base_uri": "https://localhost:8080/",
     "height": 396
    },
    "id": "DKgOR1y_R6p4",
    "outputId": "a25157aa-b946-477a-d4c8-dc7f02638b8d"
   },
   "outputs": [],
   "source": [
    "data_raw.head()"
   ]
  },
  {
   "cell_type": "code",
   "execution_count": null,
   "metadata": {},
   "outputs": [],
   "source": [
    "data_clean"
   ]
  },
  {
   "cell_type": "markdown",
   "metadata": {
    "id": "OXipmJoxFWSr"
   },
   "source": [
    "## B. Kiểm tra và xử lý dữ liệu thiếu (missing values)\n",
    "---"
   ]
  },
  {
   "cell_type": "code",
   "execution_count": null,
   "metadata": {
    "colab": {
     "base_uri": "https://localhost:8080/",
     "height": 437
    },
    "id": "hrKhrce56iVY",
    "outputId": "81f53c25-3c8c-4ebd-fe7d-b9c64764a8b0"
   },
   "outputs": [],
   "source": [
    "#Thông kế và kiểm tra dữ liệu thiếu:\n",
    "data_clean.isnull().sum()"
   ]
  },
  {
   "cell_type": "code",
   "execution_count": null,
   "metadata": {},
   "outputs": [],
   "source": [
    "#Liệt kê danh sách các bản ghi chứa dữ liệu thiếu:\n",
    "data_clean[data_clean.isnull().any(axis=1)]"
   ]
  },
  {
   "cell_type": "markdown",
   "metadata": {
    "scrolled": false
   },
   "source": [
    "**NHẬN XÉT:**\n",
    "\n",
    "* Dữ liệu giá là dữ liệu dạng chuỗi thời gian với tần suất lấy mẫu là 1 tháng.\n",
    "* Các điểm dữ liệu thiếu không nằm trong chuỗi mà nằm ở cuối chuỗi. \n",
    "* Các mặt hàng: Coarse wool; Fine Wool; Hard sawnwood; Hide dữ liệu có đến 06/2017\n",
    "* Mặt hàng: Copra dữ liệu đến tháng 06/2018 \n",
    "* Các mặt hàng còn lại đủ dữ liệu đến hết thời gian 04/2020\n",
    "\n",
    "---> Không cần phải xử lý dữ liệu thiếu. Dữ liệu có đến thời điểm nào sử dụng đến thời điểm đó."
   ]
  },
  {
   "cell_type": "code",
   "execution_count": null,
   "metadata": {},
   "outputs": [],
   "source": [
    "#Thực hiện xóa toàn bộ các dữ liệu không có dữ liệu\n",
    "#data_raw.dropna(axis=0,how='any',inplace=True)\n",
    "\n",
    "#Kiểm tra lại dữ liệu thiếu:\n",
    "#data_raw.isnull().sum()"
   ]
  },
  {
   "cell_type": "markdown",
   "metadata": {},
   "source": [
    "## C. Kiểm tra và xử lý dữ liệu trùng lặp (Duplicated data)\n",
    "---"
   ]
  },
  {
   "cell_type": "code",
   "execution_count": null,
   "metadata": {},
   "outputs": [],
   "source": [
    "#Kiểm tra dữ liệu trùng lặp\n",
    "data_clean.duplicated().sum()\n",
    "\n",
    "#--> Nhận xét: Trong dữ liệu không có hàng trùng lặp"
   ]
  },
  {
   "cell_type": "code",
   "execution_count": null,
   "metadata": {},
   "outputs": [],
   "source": []
  },
  {
   "cell_type": "markdown",
   "metadata": {},
   "source": [
    "## D. Kiểm tra và xử lý dữ liệu bất thường\n",
    "---"
   ]
  },
  {
   "cell_type": "code",
   "execution_count": null,
   "metadata": {},
   "outputs": [],
   "source": [
    "#Biểu đồ boxplot thể hiện dữ liệu giá bán:\n",
    "plt.figure(figsize=(15,4))\n",
    "data_clean[prices].boxplot()\n",
    "plt.show()"
   ]
  },
  {
   "cell_type": "code",
   "execution_count": null,
   "metadata": {},
   "outputs": [],
   "source": [
    "#Vẽ biểu đồ Histogram phân bố giá:\n",
    "fig = plt.figure(figsize = (15,10))\n",
    "ax = fig.gca()\n",
    "data_clean[prices].hist(ax = ax)\n",
    "plt.show()"
   ]
  },
  {
   "cell_type": "code",
   "execution_count": null,
   "metadata": {},
   "outputs": [],
   "source": [
    "#--> Có một vài giá trị cao hơn so với trung bình, nhưng không quá khác biệt;\n",
    "#Không có dữ liệu bất thường trong giá của các mặt hàng"
   ]
  },
  {
   "cell_type": "code",
   "execution_count": null,
   "metadata": {},
   "outputs": [],
   "source": []
  },
  {
   "cell_type": "markdown",
   "metadata": {},
   "source": [
    "## Bước 4 - Kiểm tra, Xác thực (Validation)\n",
    "---\n",
    "Sau khi thực hiện làm sạch cần kiểm tra lại dữ liệu và đảm bảo rằng tất cả các yêu cầu và ràng buộc đã được thực thi, và thực thi đầy đủ trên dữ liệu thực tế. !"
   ]
  },
  {
   "cell_type": "code",
   "execution_count": null,
   "metadata": {},
   "outputs": [],
   "source": [
    "data_clean.info()"
   ]
  },
  {
   "cell_type": "code",
   "execution_count": null,
   "metadata": {
    "scrolled": true
   },
   "outputs": [],
   "source": [
    "#quan sát đặc trưng thống kê dữ liệu giá:\n",
    "data_clean[prices].describe()"
   ]
  },
  {
   "cell_type": "code",
   "execution_count": null,
   "metadata": {
    "scrolled": true
   },
   "outputs": [],
   "source": [
    "#quan sát đặc trưng thống kê dữ liệu thay đổi giá:\n",
    "data_clean[percentages].describe()"
   ]
  },
  {
   "cell_type": "code",
   "execution_count": null,
   "metadata": {},
   "outputs": [],
   "source": []
  },
  {
   "cell_type": "code",
   "execution_count": null,
   "metadata": {
    "scrolled": false
   },
   "outputs": [],
   "source": [
    "#1. TRỰC QUAN HÓA DỮ LIỆU MẶT HÀNG LEN THÔ (Coarse wool)\n",
    "plt.figure(figsize=(14,6))\n",
    "plt.suptitle('BIỂU ĐỒ BIẾN ĐỘNG GIÁ BÁN MẶT HÀNG LEN THÔ')\n",
    "plt.subplot(2,1,1)\n",
    "plt.plot(data_clean.index,data_clean['Coarse wool Price'])\n",
    "plt.grid(ls='--')\n",
    "\n",
    "plt.subplot(2,1,2)\n",
    "plt.plot(data_clean.index,data_clean['Coarse wool price % Change'], color='red')\n",
    "plt.grid(ls='--')\n",
    "plt.show()"
   ]
  },
  {
   "cell_type": "code",
   "execution_count": null,
   "metadata": {},
   "outputs": [],
   "source": []
  },
  {
   "cell_type": "code",
   "execution_count": null,
   "metadata": {
    "scrolled": false
   },
   "outputs": [],
   "source": [
    "#2. TRỰC QUAN HÓA DỮ LIỆU MẶT HÀNG CÙI DỪA (Copra)\n",
    "plt.figure(figsize=(14,6))\n",
    "plt.suptitle('BIỂU ĐỒ BIẾN ĐỘNG GIÁ BÁN CÙI DỪA')\n",
    "plt.subplot(2,1,1)\n",
    "plt.plot(data_clean.index,data_clean['Copra Price'])\n",
    "plt.grid(ls='--')\n",
    "\n",
    "plt.subplot(2,1,2)\n",
    "plt.plot(data_clean.index,data_clean['Copra price % Change'], color='red')\n",
    "plt.grid(ls='--')\n",
    "plt.show()"
   ]
  },
  {
   "cell_type": "code",
   "execution_count": null,
   "metadata": {},
   "outputs": [],
   "source": []
  },
  {
   "cell_type": "code",
   "execution_count": null,
   "metadata": {
    "scrolled": false
   },
   "outputs": [],
   "source": [
    "#3. TRỰC QUAN HÓA DỮ LIỆU MẶT HÀNG BÔNG (Cotton)\n",
    "plt.figure(figsize=(14,6))\n",
    "plt.suptitle('BIỂU ĐỒ BIẾN ĐỘNG GIÁ BÁN MẶT HÀNG BÔNG')\n",
    "plt.subplot(2,1,1)\n",
    "plt.plot(data_clean.index,data_clean['Cotton Price'])\n",
    "plt.grid(ls='--')\n",
    "\n",
    "plt.subplot(2,1,2)\n",
    "plt.plot(data_clean.index,data_clean['Cotton price % Change'], color='red')\n",
    "plt.grid(ls='--')\n",
    "plt.show()"
   ]
  },
  {
   "cell_type": "code",
   "execution_count": null,
   "metadata": {},
   "outputs": [],
   "source": []
  },
  {
   "cell_type": "code",
   "execution_count": null,
   "metadata": {
    "scrolled": false
   },
   "outputs": [],
   "source": [
    "#4. TRỰC QUAN HÓA DỮ LIỆU MẶT HÀNG LEN MỊN (Fine wool)\n",
    "plt.figure(figsize=(14,6))\n",
    "plt.suptitle('BIỂU ĐỒ BIẾN ĐỘNG GIÁ BÁN MẶT HÀNG LEN MỊN')\n",
    "plt.subplot(2,1,1)\n",
    "plt.plot(data_clean.index,data_clean['Fine wool Price'])\n",
    "plt.grid(ls='--')\n",
    "\n",
    "plt.subplot(2,1,2)\n",
    "plt.plot(data_clean.index,data_clean['Fine wool price % Change'], color='red')\n",
    "plt.grid(ls='--')\n",
    "plt.show()"
   ]
  },
  {
   "cell_type": "code",
   "execution_count": null,
   "metadata": {},
   "outputs": [],
   "source": []
  },
  {
   "cell_type": "code",
   "execution_count": null,
   "metadata": {
    "scrolled": false
   },
   "outputs": [],
   "source": [
    "#5. TRỰC QUAN HÓA DỮ LIỆU MẶT HÀNG GỖ CỨNG (Hard log)\n",
    "plt.figure(figsize=(14,6))\n",
    "plt.suptitle('BIỂU ĐỒ BIẾN ĐỘNG GIÁ BÁN MẶT HÀNG GỖ CỨNG')\n",
    "plt.subplot(2,1,1)\n",
    "plt.plot(data_clean.index,data_clean['Hard log Price'])\n",
    "plt.grid(ls='--')\n",
    "\n",
    "plt.subplot(2,1,2)\n",
    "plt.plot(data_clean.index,data_clean['Hard log price % Change'], color='red')\n",
    "plt.grid(ls='--')\n",
    "plt.show()"
   ]
  },
  {
   "cell_type": "code",
   "execution_count": null,
   "metadata": {},
   "outputs": [],
   "source": []
  },
  {
   "cell_type": "code",
   "execution_count": null,
   "metadata": {},
   "outputs": [],
   "source": [
    "#6. TRỰC QUAN HÓA DỮ LIỆU MẶT HÀNG GỖ XẺ CỨNG (Hard sawnwood Price)\n",
    "plt.figure(figsize=(14,6))\n",
    "plt.suptitle('BIỂU ĐỒ BIẾN ĐỘNG GIÁ BÁN MẶT HÀNG GỖ XẺ CỨNG')\n",
    "plt.subplot(2,1,1)\n",
    "plt.plot(data_clean.index,data_clean['Hard sawnwood Price'])\n",
    "plt.grid(ls='--')\n",
    "\n",
    "plt.subplot(2,1,2)\n",
    "plt.plot(data_clean.index,data_clean['Hard sawnwood price % Change'], color='red')\n",
    "plt.grid(ls='--')\n",
    "plt.show()"
   ]
  },
  {
   "cell_type": "code",
   "execution_count": null,
   "metadata": {},
   "outputs": [],
   "source": []
  },
  {
   "cell_type": "code",
   "execution_count": null,
   "metadata": {},
   "outputs": [],
   "source": [
    "#7. TRỰC QUAN HÓA DỮ LIỆU MẶT HÀNG DA THÚ\n",
    "plt.figure(figsize=(14,6))\n",
    "plt.suptitle('BIỂU ĐỒ BIẾN ĐỘNG GIÁ BÁN MẶT HÀNG DA THÚ')\n",
    "plt.subplot(2,1,1)\n",
    "plt.plot(data_clean.index,data_clean['Hide Price'])\n",
    "plt.grid(ls='--')\n",
    "\n",
    "plt.subplot(2,1,2)\n",
    "plt.plot(data_clean.index,data_clean['Hide price % change'], color='red')\n",
    "plt.grid(ls='--')\n",
    "plt.show()"
   ]
  },
  {
   "cell_type": "code",
   "execution_count": null,
   "metadata": {},
   "outputs": [],
   "source": []
  },
  {
   "cell_type": "code",
   "execution_count": null,
   "metadata": {},
   "outputs": [],
   "source": [
    "#8. TRỰC QUAN HÓA DỮ LIỆU MẶT HÀNG CAO SU (Rubber)\n",
    "plt.figure(figsize=(14,6))\n",
    "plt.suptitle('BIỂU ĐỒ BIẾN ĐỘNG GIÁ BÁN MẶT HÀNG CAO SU')\n",
    "plt.subplot(2,1,1)\n",
    "plt.plot(data_clean.index,data_clean['Rubber Price'])\n",
    "plt.grid(ls='--')\n",
    "\n",
    "plt.subplot(2,1,2)\n",
    "plt.plot(data_clean.index,data_clean['Rubber price % Change'], color='red')\n",
    "plt.grid(ls='--')\n",
    "plt.show()"
   ]
  },
  {
   "cell_type": "code",
   "execution_count": null,
   "metadata": {},
   "outputs": [],
   "source": []
  },
  {
   "cell_type": "markdown",
   "metadata": {},
   "source": [
    "## Lưu dữ liệu đã làm sạch\n",
    "---"
   ]
  },
  {
   "cell_type": "code",
   "execution_count": null,
   "metadata": {
    "id": "pUsq0uNrENu_"
   },
   "outputs": [],
   "source": [
    "#Lưu Dữ liệu sau khi đã chuẩn hóa dữ liệu thô ra file .CSV\n",
    "data_clean.to_csv('Data/Data_Agriculture_OK.csv')"
   ]
  },
  {
   "cell_type": "code",
   "execution_count": null,
   "metadata": {},
   "outputs": [],
   "source": []
  }
 ],
 "metadata": {
  "colab": {
   "collapsed_sections": [
    "JJqYIPpI87rP"
   ],
   "name": "Analysis1_Agriculture.ipynb",
   "provenance": []
  },
  "kernelspec": {
   "display_name": "Python 3 (ipykernel)",
   "language": "python",
   "name": "python3"
  },
  "language_info": {
   "codemirror_mode": {
    "name": "ipython",
    "version": 3
   },
   "file_extension": ".py",
   "mimetype": "text/x-python",
   "name": "python",
   "nbconvert_exporter": "python",
   "pygments_lexer": "ipython3",
   "version": "3.11.5"
  }
 },
 "nbformat": 4,
 "nbformat_minor": 1
}
